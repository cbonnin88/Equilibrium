{
  "nbformat": 4,
  "nbformat_minor": 0,
  "metadata": {
    "colab": {
      "provenance": [],
      "authorship_tag": "ABX9TyOOPAzyuskQiWQW9B5UwOnZ",
      "include_colab_link": true
    },
    "kernelspec": {
      "name": "python3",
      "display_name": "Python 3"
    },
    "language_info": {
      "name": "python"
    }
  },
  "cells": [
    {
      "cell_type": "markdown",
      "metadata": {
        "id": "view-in-github",
        "colab_type": "text"
      },
      "source": [
        "<a href=\"https://colab.research.google.com/github/cbonnin88/Equilibrium/blob/main/hr_data_generation.ipynb\" target=\"_parent\"><img src=\"https://colab.research.google.com/assets/colab-badge.svg\" alt=\"Open In Colab\"/></a>"
      ]
    },
    {
      "cell_type": "code",
      "source": [
        "!pip install Faker"
      ],
      "metadata": {
        "colab": {
          "base_uri": "https://localhost:8080/"
        },
        "id": "Sv4gSvdxHo48",
        "outputId": "52ffe095-164f-4f92-d4db-c77b75b62188"
      },
      "execution_count": null,
      "outputs": [
        {
          "output_type": "stream",
          "name": "stdout",
          "text": [
            "Requirement already satisfied: Faker in /usr/local/lib/python3.12/dist-packages (37.8.0)\n",
            "Requirement already satisfied: tzdata in /usr/local/lib/python3.12/dist-packages (from Faker) (2025.2)\n"
          ]
        }
      ]
    },
    {
      "cell_type": "code",
      "execution_count": null,
      "metadata": {
        "id": "fGxL-fJAHb7j"
      },
      "outputs": [],
      "source": [
        "import polars as pl\n",
        "from faker import Faker\n",
        "import random\n",
        "import numpy as np\n",
        "from datetime import datetime, timedelta"
      ]
    },
    {
      "cell_type": "code",
      "source": [
        "num_employees = 2500\n",
        "attrition_rate = 0.18\n",
        "promotion_rate = 0.30"
      ],
      "metadata": {
        "id": "5LwzFSCHRGyN"
      },
      "execution_count": null,
      "outputs": []
    },
    {
      "cell_type": "code",
      "source": [
        "fake = Faker()\n",
        "faker_instance = Faker('fr_Fr')"
      ],
      "metadata": {
        "id": "Q7OqergMRT4Q"
      },
      "execution_count": null,
      "outputs": []
    },
    {
      "cell_type": "code",
      "source": [
        "# Defining Business specific Lists\n",
        "departments = ['Engineering','Product','Sales','Human Resources','Finance','Data']\n",
        "job_levels = ['T1','T2','T3','T4','T5']\n",
        "locations = ['Paris','Bordeaux','Nantes','Lille','Marseille','Lyon','Limoges']\n",
        "gender = ['Male','Female','Non-Binary']"
      ],
      "metadata": {
        "id": "Q1cV-DCaRhDI"
      },
      "execution_count": null,
      "outputs": []
    },
    {
      "cell_type": "code",
      "source": [
        "# Generate 'employees' table\n",
        "print('Generating employees table...')\n",
        "employees_data= []\n",
        "for i in range(1,num_employees + 1):\n",
        "  hire_date = fake.date_between(start_date='-5y',end_date='today')\n",
        "  genders = random.choice(gender)\n",
        "\n",
        "  # Determine terminate date based on attrition rate\n",
        "  termination_date = None\n",
        "  if random.random() < attrition_rate:\n",
        "    # Ensure terminate is after hire date\n",
        "    termination_date = fake.date_between(start_date=hire_date, end_date='today')\n",
        "\n",
        "  employees_data.append({\n",
        "      'employee_id': fake.random_number(digits=4,fix_len=True),\n",
        "      'first_name':faker_instance.first_name_male() if genders == 'Male' else faker_instance.first_name_female(),\n",
        "      'last_name':faker_instance.last_name(),\n",
        "      'gender':genders,\n",
        "      'hire_date':hire_date,\n",
        "      'termination_date':termination_date,\n",
        "      'department':random.choice(departments),\n",
        "      'job_level':random.choice(job_levels),\n",
        "      'location':random.choice(locations)\n",
        "  })\n",
        "\n",
        "  employees_df = pl.DataFrame(employees_data)"
      ],
      "metadata": {
        "colab": {
          "base_uri": "https://localhost:8080/"
        },
        "id": "iYfQQXX7SUbz",
        "outputId": "f2a312be-e4cd-48fa-d3f8-1e9d02e85510"
      },
      "execution_count": null,
      "outputs": [
        {
          "output_type": "stream",
          "name": "stdout",
          "text": [
            "Generating employees table...\n"
          ]
        }
      ]
    },
    {
      "cell_type": "code",
      "source": [
        "employees_df"
      ],
      "metadata": {
        "colab": {
          "base_uri": "https://localhost:8080/",
          "height": 532
        },
        "id": "WB_TIFq4UbLR",
        "outputId": "feb22bd5-2f4d-40c5-a821-8588043d317b"
      },
      "execution_count": null,
      "outputs": [
        {
          "output_type": "execute_result",
          "data": {
            "text/plain": [
              "shape: (2_500, 9)\n",
              "┌───────────┬───────────┬───────────┬───────────┬───┬───────────┬───────────┬───────────┬──────────┐\n",
              "│ employee_ ┆ first_nam ┆ last_name ┆ gender    ┆ … ┆ terminati ┆ departmen ┆ job_level ┆ location │\n",
              "│ id        ┆ e         ┆ ---       ┆ ---       ┆   ┆ on_date   ┆ t         ┆ ---       ┆ ---      │\n",
              "│ ---       ┆ ---       ┆ str       ┆ str       ┆   ┆ ---       ┆ ---       ┆ str       ┆ str      │\n",
              "│ i64       ┆ str       ┆           ┆           ┆   ┆ date      ┆ str       ┆           ┆          │\n",
              "╞═══════════╪═══════════╪═══════════╪═══════════╪═══╪═══════════╪═══════════╪═══════════╪══════════╡\n",
              "│ 8273      ┆ Nicolas   ┆ Barthelem ┆ Male      ┆ … ┆ null      ┆ Finance   ┆ T1        ┆ Paris    │\n",
              "│           ┆           ┆ y         ┆           ┆   ┆           ┆           ┆           ┆          │\n",
              "│ 8790      ┆ Alexandri ┆ Poirier   ┆ Non-Binar ┆ … ┆ 2025-07-2 ┆ Sales     ┆ T1        ┆ Marseill │\n",
              "│           ┆ a         ┆           ┆ y         ┆   ┆ 6         ┆           ┆           ┆ e        │\n",
              "│ 7634      ┆ Anouk     ┆ Bouchet   ┆ Female    ┆ … ┆ 2025-01-2 ┆ Data      ┆ T5        ┆ Bordeaux │\n",
              "│           ┆           ┆           ┆           ┆   ┆ 5         ┆           ┆           ┆          │\n",
              "│ 3829      ┆ Alice     ┆ Lejeune   ┆ Female    ┆ … ┆ 2024-06-2 ┆ Product   ┆ T1        ┆ Lyon     │\n",
              "│           ┆           ┆           ┆           ┆   ┆ 7         ┆           ┆           ┆          │\n",
              "│ 4618      ┆ Martine   ┆ Noël      ┆ Non-Binar ┆ … ┆ null      ┆ Product   ┆ T2        ┆ Lille    │\n",
              "│           ┆           ┆           ┆ y         ┆   ┆           ┆           ┆           ┆          │\n",
              "│ …         ┆ …         ┆ …         ┆ …         ┆ … ┆ …         ┆ …         ┆ …         ┆ …        │\n",
              "│ 5970      ┆ Anouk     ┆ Blanc     ┆ Non-Binar ┆ … ┆ null      ┆ Human     ┆ T2        ┆ Marseill │\n",
              "│           ┆           ┆           ┆ y         ┆   ┆           ┆ Resources ┆           ┆ e        │\n",
              "│ 3563      ┆ Pauline   ┆ Thomas    ┆ Non-Binar ┆ … ┆ null      ┆ Human     ┆ T3        ┆ Marseill │\n",
              "│           ┆           ┆           ┆ y         ┆   ┆           ┆ Resources ┆           ┆ e        │\n",
              "│ 2643      ┆ Raymond   ┆ Torres    ┆ Male      ┆ … ┆ null      ┆ Data      ┆ T3        ┆ Nantes   │\n",
              "│ 8038      ┆ René      ┆ Dupuy     ┆ Male      ┆ … ┆ null      ┆ Sales     ┆ T2        ┆ Paris    │\n",
              "│ 5561      ┆ Théophile ┆ Gauthier  ┆ Male      ┆ … ┆ null      ┆ Product   ┆ T4        ┆ Bordeaux │\n",
              "└───────────┴───────────┴───────────┴───────────┴───┴───────────┴───────────┴───────────┴──────────┘"
            ],
            "text/html": [
              "<div><style>\n",
              ".dataframe > thead > tr,\n",
              ".dataframe > tbody > tr {\n",
              "  text-align: right;\n",
              "  white-space: pre-wrap;\n",
              "}\n",
              "</style>\n",
              "<small>shape: (2_500, 9)</small><table border=\"1\" class=\"dataframe\"><thead><tr><th>employee_id</th><th>first_name</th><th>last_name</th><th>gender</th><th>hire_date</th><th>termination_date</th><th>department</th><th>job_level</th><th>location</th></tr><tr><td>i64</td><td>str</td><td>str</td><td>str</td><td>date</td><td>date</td><td>str</td><td>str</td><td>str</td></tr></thead><tbody><tr><td>8273</td><td>&quot;Nicolas&quot;</td><td>&quot;Barthelemy&quot;</td><td>&quot;Male&quot;</td><td>2021-02-16</td><td>null</td><td>&quot;Finance&quot;</td><td>&quot;T1&quot;</td><td>&quot;Paris&quot;</td></tr><tr><td>8790</td><td>&quot;Alexandria&quot;</td><td>&quot;Poirier&quot;</td><td>&quot;Non-Binary&quot;</td><td>2025-07-18</td><td>2025-07-26</td><td>&quot;Sales&quot;</td><td>&quot;T1&quot;</td><td>&quot;Marseille&quot;</td></tr><tr><td>7634</td><td>&quot;Anouk&quot;</td><td>&quot;Bouchet&quot;</td><td>&quot;Female&quot;</td><td>2023-09-06</td><td>2025-01-25</td><td>&quot;Data&quot;</td><td>&quot;T5&quot;</td><td>&quot;Bordeaux&quot;</td></tr><tr><td>3829</td><td>&quot;Alice&quot;</td><td>&quot;Lejeune&quot;</td><td>&quot;Female&quot;</td><td>2024-05-25</td><td>2024-06-27</td><td>&quot;Product&quot;</td><td>&quot;T1&quot;</td><td>&quot;Lyon&quot;</td></tr><tr><td>4618</td><td>&quot;Martine&quot;</td><td>&quot;Noël&quot;</td><td>&quot;Non-Binary&quot;</td><td>2024-07-11</td><td>null</td><td>&quot;Product&quot;</td><td>&quot;T2&quot;</td><td>&quot;Lille&quot;</td></tr><tr><td>&hellip;</td><td>&hellip;</td><td>&hellip;</td><td>&hellip;</td><td>&hellip;</td><td>&hellip;</td><td>&hellip;</td><td>&hellip;</td><td>&hellip;</td></tr><tr><td>5970</td><td>&quot;Anouk&quot;</td><td>&quot;Blanc&quot;</td><td>&quot;Non-Binary&quot;</td><td>2021-10-30</td><td>null</td><td>&quot;Human Resources&quot;</td><td>&quot;T2&quot;</td><td>&quot;Marseille&quot;</td></tr><tr><td>3563</td><td>&quot;Pauline&quot;</td><td>&quot;Thomas&quot;</td><td>&quot;Non-Binary&quot;</td><td>2020-10-30</td><td>null</td><td>&quot;Human Resources&quot;</td><td>&quot;T3&quot;</td><td>&quot;Marseille&quot;</td></tr><tr><td>2643</td><td>&quot;Raymond&quot;</td><td>&quot;Torres&quot;</td><td>&quot;Male&quot;</td><td>2023-03-18</td><td>null</td><td>&quot;Data&quot;</td><td>&quot;T3&quot;</td><td>&quot;Nantes&quot;</td></tr><tr><td>8038</td><td>&quot;René&quot;</td><td>&quot;Dupuy&quot;</td><td>&quot;Male&quot;</td><td>2022-02-07</td><td>null</td><td>&quot;Sales&quot;</td><td>&quot;T2&quot;</td><td>&quot;Paris&quot;</td></tr><tr><td>5561</td><td>&quot;Théophile&quot;</td><td>&quot;Gauthier&quot;</td><td>&quot;Male&quot;</td><td>2022-03-13</td><td>null</td><td>&quot;Product&quot;</td><td>&quot;T4&quot;</td><td>&quot;Bordeaux&quot;</td></tr></tbody></table></div>"
            ]
          },
          "metadata": {},
          "execution_count": 48
        }
      ]
    },
    {
      "cell_type": "markdown",
      "source": [
        "# **Generating 'Compensation' Table**"
      ],
      "metadata": {
        "id": "35pL0SDGVnIh"
      }
    },
    {
      "cell_type": "code",
      "source": [
        "print('Generating compensation table...')\n",
        "# Base salary map to create logical salaries based on job level\n",
        "job_level_salary_map = {\n",
        "    'T5':40000,\n",
        "    'T4':56000,\n",
        "    'T3':76000,\n",
        "    'T2':96000,\n",
        "    'T1':130000\n",
        "    }"
      ],
      "metadata": {
        "colab": {
          "base_uri": "https://localhost:8080/"
        },
        "id": "n0RZ_C5fVroG",
        "outputId": "a266d820-2ab3-45ca-bbe6-7ae97ca8cc14"
      },
      "execution_count": null,
      "outputs": [
        {
          "output_type": "stream",
          "name": "stdout",
          "text": [
            "Generating compensation table...\n"
          ]
        }
      ]
    },
    {
      "cell_type": "code",
      "source": [
        "compensation_data = []\n",
        "for row in employees_df.iter_rows(named=True):\n",
        "  base_salary = job_level_salary_map[row['job_level']]\n",
        "\n",
        "  # Adding a random variation\n",
        "  salary_variation = base_salary * random.uniform(-0.1,0.1)\n",
        "  final_salary = base_salary + salary_variation\n",
        "\n",
        "  # I'm introducing a systemic bias for my analysis later\n",
        "  # Introducing a slight pay gap for female and non-binary employees to create a problem to solve\n",
        "  if row ['gender'] == 'Female' or row['gender'] == 'Non-Binary':\n",
        "    final_salary *= 0.96 # 4% less on average\n",
        "\n",
        "  compensation_data.append({\n",
        "      'compensation_id':fake.random_number(digits=4,fix_len=True),\n",
        "      'employee_id':row['employee_id'],\n",
        "      'effective_date':row['hire_date'],\n",
        "      'base_salary':round(final_salary,-2), # Rounding up to the nearest 100\n",
        "      'bonus':round(final_salary * random.uniform(0.05,0.20)-2),\n",
        "      'stock_options':random.choice([500,1000,1500,2000,0])\n",
        "  })\n",
        "\n",
        "compensation_df = pl.DataFrame(compensation_data)"
      ],
      "metadata": {
        "id": "pN6kyMD4Wi9J"
      },
      "execution_count": null,
      "outputs": []
    },
    {
      "cell_type": "code",
      "source": [
        "compensation_df"
      ],
      "metadata": {
        "colab": {
          "base_uri": "https://localhost:8080/",
          "height": 443
        },
        "id": "-0da-LEAY2vF",
        "outputId": "b9048142-dafe-43d6-916f-abf81503a472"
      },
      "execution_count": null,
      "outputs": [
        {
          "output_type": "execute_result",
          "data": {
            "text/plain": [
              "shape: (2_500, 6)\n",
              "┌─────────────────┬─────────────┬────────────────┬─────────────┬───────┬───────────────┐\n",
              "│ compensation_id ┆ employee_id ┆ effective_date ┆ base_salary ┆ bonus ┆ stock_options │\n",
              "│ ---             ┆ ---         ┆ ---            ┆ ---         ┆ ---   ┆ ---           │\n",
              "│ i64             ┆ i64         ┆ date           ┆ f64         ┆ i64   ┆ i64           │\n",
              "╞═════════════════╪═════════════╪════════════════╪═════════════╪═══════╪═══════════════╡\n",
              "│ 7999            ┆ 8273        ┆ 2021-02-16     ┆ 132800.0    ┆ 8951  ┆ 0             │\n",
              "│ 5916            ┆ 8790        ┆ 2025-07-18     ┆ 113600.0    ┆ 9218  ┆ 0             │\n",
              "│ 9635            ┆ 7634        ┆ 2023-09-06     ┆ 36800.0     ┆ 7201  ┆ 2000          │\n",
              "│ 8896            ┆ 3829        ┆ 2024-05-25     ┆ 117600.0    ┆ 12103 ┆ 500           │\n",
              "│ 6357            ┆ 4618        ┆ 2024-07-11     ┆ 98700.0     ┆ 9211  ┆ 1000          │\n",
              "│ …               ┆ …           ┆ …              ┆ …           ┆ …     ┆ …             │\n",
              "│ 6059            ┆ 5970        ┆ 2021-10-30     ┆ 98500.0     ┆ 10503 ┆ 2000          │\n",
              "│ 6295            ┆ 3563        ┆ 2020-10-30     ┆ 79700.0     ┆ 14736 ┆ 500           │\n",
              "│ 8586            ┆ 2643        ┆ 2023-03-18     ┆ 73800.0     ┆ 11180 ┆ 1000          │\n",
              "│ 9555            ┆ 8038        ┆ 2022-02-07     ┆ 95200.0     ┆ 15205 ┆ 1500          │\n",
              "│ 1815            ┆ 5561        ┆ 2022-03-13     ┆ 60200.0     ┆ 4693  ┆ 2000          │\n",
              "└─────────────────┴─────────────┴────────────────┴─────────────┴───────┴───────────────┘"
            ],
            "text/html": [
              "<div><style>\n",
              ".dataframe > thead > tr,\n",
              ".dataframe > tbody > tr {\n",
              "  text-align: right;\n",
              "  white-space: pre-wrap;\n",
              "}\n",
              "</style>\n",
              "<small>shape: (2_500, 6)</small><table border=\"1\" class=\"dataframe\"><thead><tr><th>compensation_id</th><th>employee_id</th><th>effective_date</th><th>base_salary</th><th>bonus</th><th>stock_options</th></tr><tr><td>i64</td><td>i64</td><td>date</td><td>f64</td><td>i64</td><td>i64</td></tr></thead><tbody><tr><td>7999</td><td>8273</td><td>2021-02-16</td><td>132800.0</td><td>8951</td><td>0</td></tr><tr><td>5916</td><td>8790</td><td>2025-07-18</td><td>113600.0</td><td>9218</td><td>0</td></tr><tr><td>9635</td><td>7634</td><td>2023-09-06</td><td>36800.0</td><td>7201</td><td>2000</td></tr><tr><td>8896</td><td>3829</td><td>2024-05-25</td><td>117600.0</td><td>12103</td><td>500</td></tr><tr><td>6357</td><td>4618</td><td>2024-07-11</td><td>98700.0</td><td>9211</td><td>1000</td></tr><tr><td>&hellip;</td><td>&hellip;</td><td>&hellip;</td><td>&hellip;</td><td>&hellip;</td><td>&hellip;</td></tr><tr><td>6059</td><td>5970</td><td>2021-10-30</td><td>98500.0</td><td>10503</td><td>2000</td></tr><tr><td>6295</td><td>3563</td><td>2020-10-30</td><td>79700.0</td><td>14736</td><td>500</td></tr><tr><td>8586</td><td>2643</td><td>2023-03-18</td><td>73800.0</td><td>11180</td><td>1000</td></tr><tr><td>9555</td><td>8038</td><td>2022-02-07</td><td>95200.0</td><td>15205</td><td>1500</td></tr><tr><td>1815</td><td>5561</td><td>2022-03-13</td><td>60200.0</td><td>4693</td><td>2000</td></tr></tbody></table></div>"
            ]
          },
          "metadata": {},
          "execution_count": 53
        }
      ]
    },
    {
      "cell_type": "markdown",
      "source": [
        "# **Generating Performance Reviews Table**"
      ],
      "metadata": {
        "id": "KurWm-KPZMYg"
      }
    },
    {
      "cell_type": "code",
      "source": [
        "print('Generating performance_reviews table...')\n",
        "performance_data = []\n",
        "for row in employees_df.iter_rows(named=True):\n",
        "  # Each employee gets 1 to 5 reviews\n",
        "  num_reviews = random.randint(1,5)\n",
        "\n",
        "  end_date = row['termination_date'] if row['termination_date'] else datetime.now().date()\n",
        "\n",
        "  for j in range(num_reviews):\n",
        "    # Ensure  review date is within employment period\n",
        "    review_date = fake.date_between(start_date=row['hire_date'],end_date=end_date)\n",
        "\n",
        "    # Create logical performance scores\n",
        "    # If an employee has attritited, make their last performance score more likely to be low\n",
        "    perf_score = random.randint(1,5)\n",
        "    if j == num_reviews - 1 and row['termination_date'] is not None:\n",
        "      if random.random() < 0.6: # 60% chance of a low last score if attrited\n",
        "        perf_score = random.randint(1,3)\n",
        "\n",
        "  performance_data.append({\n",
        "       'review_id':fake.random_number(digits=4,fix_len=True),\n",
        "       'employee_id':row['employee_id'],\n",
        "       'review_date':review_date,\n",
        "       'performance_score':perf_score,\n",
        "       'potential_score':random.randint(1,5)\n",
        "   })\n",
        "\n",
        "performance_df = pl.DataFrame(performance_data)"
      ],
      "metadata": {
        "colab": {
          "base_uri": "https://localhost:8080/"
        },
        "id": "yD_ZSCrmZiE5",
        "outputId": "cf9ab973-23ad-4703-db16-74d87adcce9b"
      },
      "execution_count": null,
      "outputs": [
        {
          "output_type": "stream",
          "name": "stdout",
          "text": [
            "Generating performance_reviews table...\n"
          ]
        }
      ]
    },
    {
      "cell_type": "code",
      "source": [
        "performance_df"
      ],
      "metadata": {
        "colab": {
          "base_uri": "https://localhost:8080/",
          "height": 443
        },
        "id": "SDIA75sdbgye",
        "outputId": "22d9698a-9a40-4901-971c-34f250c0bc40"
      },
      "execution_count": null,
      "outputs": [
        {
          "output_type": "execute_result",
          "data": {
            "text/plain": [
              "shape: (2_500, 5)\n",
              "┌───────────┬─────────────┬─────────────┬───────────────────┬─────────────────┐\n",
              "│ review_id ┆ employee_id ┆ review_date ┆ performance_score ┆ potential_score │\n",
              "│ ---       ┆ ---         ┆ ---         ┆ ---               ┆ ---             │\n",
              "│ i64       ┆ i64         ┆ date        ┆ i64               ┆ i64             │\n",
              "╞═══════════╪═════════════╪═════════════╪═══════════════════╪═════════════════╡\n",
              "│ 3438      ┆ 8273        ┆ 2022-08-11  ┆ 5                 ┆ 2               │\n",
              "│ 1531      ┆ 8790        ┆ 2025-07-18  ┆ 2                 ┆ 3               │\n",
              "│ 6018      ┆ 7634        ┆ 2023-12-31  ┆ 2                 ┆ 2               │\n",
              "│ 1113      ┆ 3829        ┆ 2024-06-25  ┆ 1                 ┆ 2               │\n",
              "│ 9996      ┆ 4618        ┆ 2024-11-06  ┆ 5                 ┆ 1               │\n",
              "│ …         ┆ …           ┆ …           ┆ …                 ┆ …               │\n",
              "│ 6847      ┆ 5970        ┆ 2023-12-12  ┆ 3                 ┆ 4               │\n",
              "│ 5483      ┆ 3563        ┆ 2023-10-04  ┆ 4                 ┆ 1               │\n",
              "│ 8956      ┆ 2643        ┆ 2023-08-10  ┆ 5                 ┆ 3               │\n",
              "│ 9570      ┆ 8038        ┆ 2025-01-29  ┆ 3                 ┆ 4               │\n",
              "│ 7827      ┆ 5561        ┆ 2025-04-09  ┆ 4                 ┆ 5               │\n",
              "└───────────┴─────────────┴─────────────┴───────────────────┴─────────────────┘"
            ],
            "text/html": [
              "<div><style>\n",
              ".dataframe > thead > tr,\n",
              ".dataframe > tbody > tr {\n",
              "  text-align: right;\n",
              "  white-space: pre-wrap;\n",
              "}\n",
              "</style>\n",
              "<small>shape: (2_500, 5)</small><table border=\"1\" class=\"dataframe\"><thead><tr><th>review_id</th><th>employee_id</th><th>review_date</th><th>performance_score</th><th>potential_score</th></tr><tr><td>i64</td><td>i64</td><td>date</td><td>i64</td><td>i64</td></tr></thead><tbody><tr><td>3438</td><td>8273</td><td>2022-08-11</td><td>5</td><td>2</td></tr><tr><td>1531</td><td>8790</td><td>2025-07-18</td><td>2</td><td>3</td></tr><tr><td>6018</td><td>7634</td><td>2023-12-31</td><td>2</td><td>2</td></tr><tr><td>1113</td><td>3829</td><td>2024-06-25</td><td>1</td><td>2</td></tr><tr><td>9996</td><td>4618</td><td>2024-11-06</td><td>5</td><td>1</td></tr><tr><td>&hellip;</td><td>&hellip;</td><td>&hellip;</td><td>&hellip;</td><td>&hellip;</td></tr><tr><td>6847</td><td>5970</td><td>2023-12-12</td><td>3</td><td>4</td></tr><tr><td>5483</td><td>3563</td><td>2023-10-04</td><td>4</td><td>1</td></tr><tr><td>8956</td><td>2643</td><td>2023-08-10</td><td>5</td><td>3</td></tr><tr><td>9570</td><td>8038</td><td>2025-01-29</td><td>3</td><td>4</td></tr><tr><td>7827</td><td>5561</td><td>2025-04-09</td><td>4</td><td>5</td></tr></tbody></table></div>"
            ]
          },
          "metadata": {},
          "execution_count": 55
        }
      ]
    },
    {
      "cell_type": "markdown",
      "source": [
        "# **Generate Job History Table**"
      ],
      "metadata": {
        "id": "6FGz6i5bdcWl"
      }
    },
    {
      "cell_type": "code",
      "source": [
        "print('Generating job history table')\n",
        "job_history_data = []\n",
        "promoted_employees = employees_df.sample(fraction=promotion_rate)\n",
        "\n",
        "level_map = {\n",
        "    'T5':'T4',\n",
        "    'T4':'T3',\n",
        "    'T2':'T1'\n",
        "}"
      ],
      "metadata": {
        "colab": {
          "base_uri": "https://localhost:8080/"
        },
        "id": "3cWopdgIdfvP",
        "outputId": "a97e943f-6922-4d74-a916-7adf74c201cc"
      },
      "execution_count": null,
      "outputs": [
        {
          "output_type": "stream",
          "name": "stdout",
          "text": [
            "Generating job history table\n"
          ]
        }
      ]
    },
    {
      "cell_type": "code",
      "source": [
        "for row in promoted_employees.iter_rows(named=True):\n",
        "  if row['job_level'] in level_map:\n",
        "    # Calculate the potential start and end dates for promotion\n",
        "    potential_start_date = row['hire_date'] + timedelta(days=365)\n",
        "    end_date = row['termination_date'] if row['termination_date'] else datetime.now().date()\n",
        "\n",
        "    # Only generate a promotion date if the start date is before the end date\n",
        "    if potential_start_date < end_date:\n",
        "      promotion_date = fake.date_between(\n",
        "        start_date=potential_start_date,  # Min 1 year before promotion\n",
        "        end_date=end_date\n",
        "      )\n",
        "\n",
        "      # Determine previous job level (simplified logic)\n",
        "      previous_job_level = [k for k, v in level_map.items() if v == row['job_level']]\n",
        "      if previous_job_level:\n",
        "        job_history_data.append({\n",
        "            'history_id':fake.random_number(digits=4,fix_len=True),\n",
        "            'employee_id':row['employee_id'],\n",
        "            'promotion_date':promotion_date,\n",
        "            'previous_job_level':previous_job_level[0],\n",
        "            'new_job_level':row['job_level']\n",
        "        })\n",
        "\n",
        "job_history_df = pl.DataFrame(job_history_data)"
      ],
      "metadata": {
        "id": "-6glICN6d9K9"
      },
      "execution_count": null,
      "outputs": []
    },
    {
      "cell_type": "code",
      "metadata": {
        "colab": {
          "base_uri": "https://localhost:8080/",
          "height": 443
        },
        "id": "13e79c6e",
        "outputId": "760c52ff-bfe1-428c-e09d-0dbdfa557dd0"
      },
      "source": [
        "job_history_df"
      ],
      "execution_count": null,
      "outputs": [
        {
          "output_type": "execute_result",
          "data": {
            "text/plain": [
              "shape: (117, 5)\n",
              "┌────────────┬─────────────┬────────────────┬────────────────────┬───────────────┐\n",
              "│ history_id ┆ employee_id ┆ promotion_date ┆ previous_job_level ┆ new_job_level │\n",
              "│ ---        ┆ ---         ┆ ---            ┆ ---                ┆ ---           │\n",
              "│ i64        ┆ i64         ┆ date           ┆ str                ┆ str           │\n",
              "╞════════════╪═════════════╪════════════════╪════════════════════╪═══════════════╡\n",
              "│ 1466       ┆ 8254        ┆ 2025-06-06     ┆ T5                 ┆ T4            │\n",
              "│ 9284       ┆ 8254        ┆ 2024-08-17     ┆ T5                 ┆ T4            │\n",
              "│ 3640       ┆ 8254        ┆ 2024-07-20     ┆ T5                 ┆ T4            │\n",
              "│ 3714       ┆ 5052        ┆ 2025-04-22     ┆ T5                 ┆ T4            │\n",
              "│ 5465       ┆ 6549        ┆ 2025-05-27     ┆ T5                 ┆ T4            │\n",
              "│ …          ┆ …           ┆ …              ┆ …                  ┆ …             │\n",
              "│ 5680       ┆ 7319        ┆ 2025-01-10     ┆ T5                 ┆ T4            │\n",
              "│ 7159       ┆ 2252        ┆ 2024-11-30     ┆ T5                 ┆ T4            │\n",
              "│ 4050       ┆ 8445        ┆ 2024-02-23     ┆ T5                 ┆ T4            │\n",
              "│ 9647       ┆ 5997        ┆ 2024-12-02     ┆ T5                 ┆ T4            │\n",
              "│ 6727       ┆ 2700        ┆ 2025-06-13     ┆ T5                 ┆ T4            │\n",
              "└────────────┴─────────────┴────────────────┴────────────────────┴───────────────┘"
            ],
            "text/html": [
              "<div><style>\n",
              ".dataframe > thead > tr,\n",
              ".dataframe > tbody > tr {\n",
              "  text-align: right;\n",
              "  white-space: pre-wrap;\n",
              "}\n",
              "</style>\n",
              "<small>shape: (117, 5)</small><table border=\"1\" class=\"dataframe\"><thead><tr><th>history_id</th><th>employee_id</th><th>promotion_date</th><th>previous_job_level</th><th>new_job_level</th></tr><tr><td>i64</td><td>i64</td><td>date</td><td>str</td><td>str</td></tr></thead><tbody><tr><td>1466</td><td>8254</td><td>2025-06-06</td><td>&quot;T5&quot;</td><td>&quot;T4&quot;</td></tr><tr><td>9284</td><td>8254</td><td>2024-08-17</td><td>&quot;T5&quot;</td><td>&quot;T4&quot;</td></tr><tr><td>3640</td><td>8254</td><td>2024-07-20</td><td>&quot;T5&quot;</td><td>&quot;T4&quot;</td></tr><tr><td>3714</td><td>5052</td><td>2025-04-22</td><td>&quot;T5&quot;</td><td>&quot;T4&quot;</td></tr><tr><td>5465</td><td>6549</td><td>2025-05-27</td><td>&quot;T5&quot;</td><td>&quot;T4&quot;</td></tr><tr><td>&hellip;</td><td>&hellip;</td><td>&hellip;</td><td>&hellip;</td><td>&hellip;</td></tr><tr><td>5680</td><td>7319</td><td>2025-01-10</td><td>&quot;T5&quot;</td><td>&quot;T4&quot;</td></tr><tr><td>7159</td><td>2252</td><td>2024-11-30</td><td>&quot;T5&quot;</td><td>&quot;T4&quot;</td></tr><tr><td>4050</td><td>8445</td><td>2024-02-23</td><td>&quot;T5&quot;</td><td>&quot;T4&quot;</td></tr><tr><td>9647</td><td>5997</td><td>2024-12-02</td><td>&quot;T5&quot;</td><td>&quot;T4&quot;</td></tr><tr><td>6727</td><td>2700</td><td>2025-06-13</td><td>&quot;T5&quot;</td><td>&quot;T4&quot;</td></tr></tbody></table></div>"
            ]
          },
          "metadata": {},
          "execution_count": 62
        }
      ]
    },
    {
      "cell_type": "markdown",
      "source": [
        "# **Save to CSV Files**"
      ],
      "metadata": {
        "id": "5QiqQh8Tf3Io"
      }
    },
    {
      "cell_type": "code",
      "source": [
        "print('Saving DataFrames to csv files...')\n",
        "employees_df.write_csv('employees.csv')\n",
        "compensation_df.write_csv('compensation.csv')\n",
        "performance_df.write_csv('performance.csv')\n",
        "job_history_df.write_csv('job_history.csv')\n",
        "\n",
        "\n",
        "print('\\nData generation complete, Four csv files have been created')"
      ],
      "metadata": {
        "colab": {
          "base_uri": "https://localhost:8080/"
        },
        "id": "hoiAUPeWf6SF",
        "outputId": "d232f795-aa49-417a-de88-63f1746f23aa"
      },
      "execution_count": null,
      "outputs": [
        {
          "output_type": "stream",
          "name": "stdout",
          "text": [
            "Saving DataFrames to csv files...\n",
            "\n",
            "Data generation complete, Four csv files have been created\n"
          ]
        }
      ]
    }
  ]
}